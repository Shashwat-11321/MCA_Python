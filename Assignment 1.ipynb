{
 "cells": [
  {
   "cell_type": "markdown",
   "id": "c3b9e67b-e1df-4455-8179-f1aa594449a1",
   "metadata": {},
   "source": [
    "# Part 1\n",
    "## String Operations\n"
   ]
  },
  {
   "cell_type": "code",
   "execution_count": 20,
   "id": "41a45434-e1eb-45c4-8550-cb71b58dc5d7",
   "metadata": {},
   "outputs": [
    {
     "name": "stdout",
     "output_type": "stream",
     "text": [
      "Name is : Shashwat  \n",
      " Course name is : MCA  \n",
      " Python Version is :  3.12.4 | packaged by Anaconda, Inc. | (main, Jun 18 2024, 15:03:56) [MSC v.1929 64 bit (AMD64)]\n"
     ]
    }
   ],
   "source": [
    "import sys\n",
    "name=\"Shashwat \"\n",
    "course=\"MCA \"\n",
    "pythonver=sys.version\n",
    "\n",
    "print(\"Name is :\",name ,\"\\n\",\"Course name is :\",course,\"\\n\" ,\"Python Version is : \",pythonver)\n"
   ]
  },
  {
   "cell_type": "markdown",
   "id": "58c18e31-c696-4114-b4a0-6f92f26d2eaa",
   "metadata": {},
   "source": [
    "# Part 2\n",
    "##  1.String Operation"
   ]
  },
  {
   "cell_type": "code",
   "execution_count": 48,
   "id": "79599583-ea1f-4961-8d31-6401de6fc58d",
   "metadata": {},
   "outputs": [
    {
     "name": "stdin",
     "output_type": "stream",
     "text": [
      "Enter First Name peter\n",
      "Enter Last Name griffin\n"
     ]
    },
    {
     "name": "stdout",
     "output_type": "stream",
     "text": [
      "Griffin Peter\n"
     ]
    },
    {
     "data": {
      "text/plain": [
       "'Peter'"
      ]
     },
     "execution_count": 48,
     "metadata": {},
     "output_type": "execute_result"
    }
   ],
   "source": [
    "firstname=input(\"Enter First Name\")\n",
    "lastname=input(\"Enter Last Name\")\n",
    "temp=last_Name +\" \"+first_Name\n",
    "print(temp)\n",
    "\n",
    "first_Name.capitalize() # This will captilize the first character in the string\n",
    "\n",
    "\n"
   ]
  },
  {
   "cell_type": "markdown",
   "id": "04f2e441-ed0a-4f90-a9e6-76fa31844cda",
   "metadata": {},
   "source": [
    "## 2.Numeric Data Types"
   ]
  },
  {
   "cell_type": "code",
   "execution_count": 59,
   "id": "c75c59e6-4ac8-45f2-9a50-0340720b890b",
   "metadata": {},
   "outputs": [
    {
     "name": "stdin",
     "output_type": "stream",
     "text": [
      "Enter a number  546\n"
     ]
    },
    {
     "name": "stdout",
     "output_type": "stream",
     "text": [
      "546.0\n",
      "546\n",
      "(546+0j)\n"
     ]
    }
   ],
   "source": [
    "num=input(\"Enter a number \")\n",
    "print(float(num))\n",
    "print(int(num))\n",
    "print(complex(num))"
   ]
  },
  {
   "cell_type": "markdown",
   "id": "c1ae6c7b-a825-4fef-be7f-0915c0fe84bb",
   "metadata": {},
   "source": [
    "## 3.Simple Input and Output"
   ]
  },
  {
   "cell_type": "code",
   "execution_count": 4,
   "id": "f90d3223-b294-4974-be7c-1548766b8f9f",
   "metadata": {},
   "outputs": [
    {
     "name": "stdin",
     "output_type": "stream",
     "text": [
      "enter Length 43\n",
      "Enter Breadth 43\n"
     ]
    },
    {
     "name": "stdout",
     "output_type": "stream",
     "text": [
      "The area of rectangle is1849 \n"
     ]
    }
   ],
   "source": [
    "len=int(input(\"enter Length\"))\n",
    "bre=int(input(\"Enter Breadth\"))\n",
    "area=len*bre\n",
    "print(f\"The area of rectangle is{area} \")"
   ]
  },
  {
   "cell_type": "markdown",
   "id": "fd87584d-8764-4415-abc7-906a910c0687",
   "metadata": {},
   "source": [
    "## 4.\n"
   ]
  },
  {
   "cell_type": "code",
   "execution_count": 8,
   "id": "95b9ac6e-e103-4a97-a120-fdef8daecdc5",
   "metadata": {},
   "outputs": [
    {
     "name": "stdout",
     "output_type": "stream",
     "text": [
      "Area of rectnge is : 1849.00\n"
     ]
    }
   ],
   "source": [
    "#Display with 2 decimal places\n",
    "print(\"Area of rectnge is : {:.2f}\".format(area))"
   ]
  },
  {
   "cell_type": "markdown",
   "id": "2c1de1f8-0f4d-4527-9468-39b54841babd",
   "metadata": {},
   "source": [
    "## 5.\n"
   ]
  },
  {
   "cell_type": "code",
   "execution_count": 17,
   "id": "10ee6393-9b19-4d84-b461-42eb14d57a5a",
   "metadata": {},
   "outputs": [
    {
     "name": "stdin",
     "output_type": "stream",
     "text": [
      "Enter first number 43\n",
      "Enter second number 44\n",
      "Enter third number 54\n"
     ]
    },
    {
     "name": "stdout",
     "output_type": "stream",
     "text": [
      "the avrage of three number is: 47.00\n"
     ]
    }
   ],
   "source": [
    "num1=int(input(\"Enter first number\"))\n",
    "num2=int(input(\"Enter second number\"))\n",
    "num3=int(input(\"Enter third number\"))\n",
    "avr=(num1+num2+num3)/3\n",
    "print(\"the avrage of three number is: %.2f\" % avr)"
   ]
  },
  {
   "cell_type": "markdown",
   "id": "1341dee2-a2a9-4fdf-bb1b-4c2545fd9718",
   "metadata": {},
   "source": [
    "# Part 3 Language Component"
   ]
  },
  {
   "cell_type": "markdown",
   "id": "c7e1c29b-9086-46be-a626-cfe423cbb61b",
   "metadata": {},
   "source": [
    "## 6.Control Flow "
   ]
  },
  {
   "cell_type": "code",
   "execution_count": 33,
   "id": "649b4fbe-fc72-45b0-88ca-30c28b5e0492",
   "metadata": {},
   "outputs": [
    {
     "name": "stdin",
     "output_type": "stream",
     "text": [
      "enter a number  43\n"
     ]
    },
    {
     "name": "stdout",
     "output_type": "stream",
     "text": [
      "the number is positive\n"
     ]
    },
    {
     "name": "stdin",
     "output_type": "stream",
     "text": [
      "enter a number  44\n"
     ]
    },
    {
     "name": "stdout",
     "output_type": "stream",
     "text": [
      "the number is positive\n"
     ]
    },
    {
     "name": "stdin",
     "output_type": "stream",
     "text": [
      "enter a number  3\n"
     ]
    },
    {
     "name": "stdout",
     "output_type": "stream",
     "text": [
      "the number is positive\n"
     ]
    },
    {
     "name": "stdin",
     "output_type": "stream",
     "text": [
      "enter a number  de\n"
     ]
    },
    {
     "name": "stdout",
     "output_type": "stream",
     "text": [
      "error \n"
     ]
    },
    {
     "name": "stdin",
     "output_type": "stream",
     "text": [
      "enter a number  de\n"
     ]
    },
    {
     "name": "stdout",
     "output_type": "stream",
     "text": [
      "error \n"
     ]
    },
    {
     "name": "stdin",
     "output_type": "stream",
     "text": [
      "enter a number  exit\n"
     ]
    }
   ],
   "source": [
    "while True:\n",
    "    inpt=input(\"enter a number \")\n",
    "    if inpt.lower() == 'exit':\n",
    "        break\n",
    "    try:\n",
    "        num=int(inpt)\n",
    "        if num>0:\n",
    "            print(\"the number is positive\")\n",
    "        elif num<0:\n",
    "            print(\"The number is negetive\")\n",
    "        else:\n",
    "            print(\"the number is zero\")\n",
    "    except:\n",
    "        print(\"error \")\n",
    "    continue"
   ]
  },
  {
   "cell_type": "markdown",
   "id": "bed9e734-0c53-4ec9-90e9-c8408dfefdc6",
   "metadata": {},
   "source": [
    "## 7. Relational and logical Operators"
   ]
  },
  {
   "cell_type": "code",
   "execution_count": 37,
   "id": "68273340-c421-474b-a0eb-8e7dde8fbfb2",
   "metadata": {},
   "outputs": [
    {
     "name": "stdin",
     "output_type": "stream",
     "text": [
      "enter a number  43\n",
      "enter second number  44\n"
     ]
    },
    {
     "name": "stdout",
     "output_type": "stream",
     "text": [
      "one is only even \n"
     ]
    }
   ],
   "source": [
    "num1=int(input(\"enter a number \"))\n",
    "num2=int(input(\"enter second number \"))\n",
    "if num1%2==0 and num2%2==0:\n",
    "    print(\"Both are even \")\n",
    "elif num1 % 2!= 0 and num2 % 2!=0 :\n",
    "    print(\"both are odd \")\n",
    "else:\n",
    "    print(\"one is only even \")"
   ]
  },
  {
   "cell_type": "markdown",
   "id": "26496ed1-5040-4992-86f9-2a1f3dc793da",
   "metadata": {},
   "source": [
    "## 8.For loop and Bitwise Operator "
   ]
  },
  {
   "cell_type": "code",
   "execution_count": 40,
   "id": "6e8d425d-0476-4f63-b55f-b513f72ab010",
   "metadata": {},
   "outputs": [
    {
     "name": "stdin",
     "output_type": "stream",
     "text": [
      "Enter a number:  23\n"
     ]
    },
    {
     "name": "stdout",
     "output_type": "stream",
     "text": [
      "Binary: 10111\n",
      "Octal: 27\n",
      "Hexadecimal: 17\n"
     ]
    }
   ],
   "source": [
    "def convert_number(num):\n",
    "    if num < 0:\n",
    "        print(\"Please enter a positive number!\")\n",
    "        return\n",
    "\n",
    "    # Convert to binary\n",
    "    binary = ''\n",
    "    if num == 0:\n",
    "        binary = '0'\n",
    "    else:\n",
    "        for i in range(num.bit_length()):\n",
    "            if num & (1 << i):\n",
    "                binary = '1' + binary\n",
    "            else:\n",
    "                binary = '0' + binary\n",
    "\n",
    "    # Convert to octal\n",
    "    octal = ''\n",
    "    n = num  # Making a copy of the number to use it for octal conversion\n",
    "    if n == 0:\n",
    "        octal = '0'\n",
    "    else:\n",
    "        while n > 0:\n",
    "            octal = str(n % 8) + octal\n",
    "            n = n // 8\n",
    "\n",
    "    # Convert to hexadecimal\n",
    "    n = num  # Using the same number again for hexadecimal conversion\n",
    "    hex_digits = \"0123456789ABCDEF\"\n",
    "    hexadecimal = ''\n",
    "    if n == 0:\n",
    "        hexadecimal = '0'\n",
    "    else:\n",
    "        while n > 0:\n",
    "            hexadecimal = hex_digits[n % 16] + hexadecimal\n",
    "            n = n // 16\n",
    "\n",
    "    print(\"Binary:\", binary)\n",
    "    print(\"Octal:\", octal)\n",
    "    print(\"Hexadecimal:\", hexadecimal)\n",
    "\n",
    "# Get the number from the user\n",
    "try:\n",
    "    number = int(input(\"Enter a number: \"))\n",
    "    convert_number(number)\n",
    "except ValueError:\n",
    "    print(\"That's not a valid number! Please enter a non-negative integer.\")\n"
   ]
  },
  {
   "cell_type": "code",
   "execution_count": null,
   "id": "d7acdca0-9f8e-490d-82c8-e7a8d7298b6d",
   "metadata": {},
   "outputs": [],
   "source": []
  }
 ],
 "metadata": {
  "kernelspec": {
   "display_name": "Python 3 (ipykernel)",
   "language": "python",
   "name": "python3"
  },
  "language_info": {
   "codemirror_mode": {
    "name": "ipython",
    "version": 3
   },
   "file_extension": ".py",
   "mimetype": "text/x-python",
   "name": "python",
   "nbconvert_exporter": "python",
   "pygments_lexer": "ipython3",
   "version": "3.12.4"
  }
 },
 "nbformat": 4,
 "nbformat_minor": 5
}
