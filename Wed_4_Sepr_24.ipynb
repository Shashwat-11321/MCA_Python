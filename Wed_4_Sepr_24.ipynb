{
 "cells": [
  {
   "cell_type": "markdown",
   "id": "86b4bf20-0bcd-4b7c-b0d0-ffcd010180c3",
   "metadata": {},
   "source": [
    "# Question 1\n",
    "## 1. WAP a function that takes one input argument and retruns it's sum , cumulative sum avrage , minimum and maximum.\n",
    "## 2. Define function documentation using docstring and show its usages"
   ]
  },
  {
   "cell_type": "code",
   "execution_count": 59,
   "id": "5685725d-ee2b-49c9-83b1-cda5c21af00c",
   "metadata": {},
   "outputs": [
    {
     "name": "stdin",
     "output_type": "stream",
     "text": [
      "enter a number 1\n",
      "enter a number 2\n",
      "enter a number 3\n",
      "enter a number 4\n",
      "enter a number 5\n"
     ]
    },
    {
     "name": "stdout",
     "output_type": "stream",
     "text": [
      "the sum= 15\n",
      "Avr= 3.75\n",
      "minimum is : 1\n",
      "maximum is : 5\n"
     ]
    }
   ],
   "source": [
    "ls=[]\n",
    "def calc(ls):\n",
    "    sum=0\n",
    "    avr=0\n",
    "\n",
    "    for ele in ls:\n",
    "        sum=sum+ele\n",
    "    print(\"the sum=\",sum)\n",
    "    avr=sum/4\n",
    "    print(\"Avr=\",avr)\n",
    "    print(\"minimum is :\",min(ls))\n",
    "    print(\"maximum is :\",max(ls))\n",
    "    \n",
    "for i in range(5):\n",
    "    inp=int(input(\"enter a number\"))\n",
    "    ls.append(inp)\n",
    "calc(ls)\n",
    "\n",
    "\n"
   ]
  },
  {
   "cell_type": "code",
   "execution_count": 29,
   "id": "39119449-0764-4b8f-9587-064af67aa912",
   "metadata": {},
   "outputs": [
    {
     "ename": "NameError",
     "evalue": "name 'clac' is not defined",
     "output_type": "error",
     "traceback": [
      "\u001b[1;31m---------------------------------------------------------------------------\u001b[0m",
      "\u001b[1;31mNameError\u001b[0m                                 Traceback (most recent call last)",
      "Cell \u001b[1;32mIn[29], line 1\u001b[0m\n\u001b[1;32m----> 1\u001b[0m clac()\n",
      "\u001b[1;31mNameError\u001b[0m: name 'clac' is not defined"
     ]
    }
   ],
   "source": []
  },
  {
   "cell_type": "markdown",
   "id": "0bfc876c-de56-4efb-af85-a315c135b05f",
   "metadata": {},
   "source": [
    "## WAP a program to take n inputs form user and store them as a list "
   ]
  },
  {
   "cell_type": "code",
   "execution_count": 50,
   "id": "a508f588-3d92-4910-8841-dc63eee24181",
   "metadata": {},
   "outputs": [
    {
     "name": "stdin",
     "output_type": "stream",
     "text": [
      "enter the amount of numbers in list 2\n",
      "Enter the Element for the list  3\n",
      "Enter the Element for the list  4\n"
     ]
    },
    {
     "name": "stdout",
     "output_type": "stream",
     "text": [
      "[3, 4]\n"
     ]
    }
   ],
   "source": [
    "ls=[]\n",
    "n=int(input(\"enter the amount of numbers in list\"))\n",
    "\n",
    "for i in range(0,n):\n",
    "    inp=int(input(\"Enter the Element for the list \"))\n",
    "    ls.append(inp)\n",
    "print(ls)"
   ]
  },
  {
   "cell_type": "code",
   "execution_count": null,
   "id": "780d302a-17ec-43ff-afdf-951ce72faa65",
   "metadata": {},
   "outputs": [],
   "source": []
  }
 ],
 "metadata": {
  "kernelspec": {
   "display_name": "Python 3 (ipykernel)",
   "language": "python",
   "name": "python3"
  },
  "language_info": {
   "codemirror_mode": {
    "name": "ipython",
    "version": 3
   },
   "file_extension": ".py",
   "mimetype": "text/x-python",
   "name": "python",
   "nbconvert_exporter": "python",
   "pygments_lexer": "ipython3",
   "version": "3.12.4"
  }
 },
 "nbformat": 4,
 "nbformat_minor": 5
}
